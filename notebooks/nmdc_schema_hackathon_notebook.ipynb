{
 "cells": [
  {
   "cell_type": "code",
   "execution_count": null,
   "id": "19d2affd",
   "metadata": {
    "ExecuteTime": {
     "end_time": "2022-08-10T13:49:29.063672Z",
     "start_time": "2022-08-10T13:49:28.655743Z"
    },
    "pycharm": {
     "name": "#%%\n"
    }
   },
   "outputs": [],
   "source": [
    "from linkml_runtime import SchemaView\n",
    "from linkml_runtime.dumpers import yaml_dumper"
   ]
  },
  {
   "cell_type": "code",
   "execution_count": null,
   "id": "785e1a97",
   "metadata": {
    "ExecuteTime": {
     "end_time": "2022-08-10T13:49:30.500310Z",
     "start_time": "2022-08-10T13:49:30.490215Z"
    },
    "pycharm": {
     "name": "#%%\n"
    }
   },
   "outputs": [],
   "source": [
    "# experiemtn for making tab completion go faster\n",
    "%config Completer.use_jedi = False"
   ]
  },
  {
   "cell_type": "code",
   "execution_count": null,
   "id": "46cff196",
   "metadata": {
    "ExecuteTime": {
     "end_time": "2022-08-10T13:49:31.658591Z",
     "start_time": "2022-08-10T13:49:31.655758Z"
    },
    "pycharm": {
     "name": "#%%\n"
    }
   },
   "outputs": [],
   "source": [
    "nmdc_schema_url = \"https://raw.githubusercontent.com/microbiomedata/nmdc-schema/main/src/schema/nmdc.yaml\""
   ]
  },
  {
   "cell_type": "code",
   "execution_count": null,
   "id": "6c45580b",
   "metadata": {
    "ExecuteTime": {
     "end_time": "2022-08-10T13:49:33.117808Z",
     "start_time": "2022-08-10T13:49:33.114984Z"
    },
    "pycharm": {
     "name": "#%%\n"
    }
   },
   "outputs": [],
   "source": [
    "hack_schema_path = \"/Users/MAM/Documents/gitrepos/schema_hackathon/schemasheets-related/output/nmdc_hackathon_schema.yaml\""
   ]
  },
  {
   "cell_type": "code",
   "execution_count": null,
   "id": "fc5a0e79",
   "metadata": {
    "ExecuteTime": {
     "end_time": "2022-08-10T12:54:12.797120Z",
     "start_time": "2022-08-10T12:54:12.399931Z"
    },
    "pycharm": {
     "name": "#%%\n"
    }
   },
   "outputs": [],
   "source": [
    "# nmdc_view = SchemaView(nmdc_schema_url)"
   ]
  },
  {
   "cell_type": "code",
   "execution_count": null,
   "id": "61e5eefa",
   "metadata": {
    "ExecuteTime": {
     "end_time": "2022-08-10T13:54:40.926759Z",
     "start_time": "2022-08-10T13:54:40.914636Z"
    },
    "pycharm": {
     "name": "#%%\n"
    }
   },
   "outputs": [],
   "source": [
    "schema_view = SchemaView(hack_schema_path)"
   ]
  },
  {
   "cell_type": "code",
   "execution_count": null,
   "id": "1aaa1d7a",
   "metadata": {
    "ExecuteTime": {
     "end_time": "2022-08-10T13:54:41.806887Z",
     "start_time": "2022-08-10T13:54:41.518597Z"
    },
    "pycharm": {
     "name": "#%%\n"
    }
   },
   "outputs": [],
   "source": [
    "elements = schema_view.all_elements()"
   ]
  },
  {
   "cell_type": "code",
   "execution_count": null,
   "id": "d38d8ae4",
   "metadata": {
    "ExecuteTime": {
     "end_time": "2022-08-10T13:54:42.168688Z",
     "start_time": "2022-08-10T13:54:42.165194Z"
    },
    "pycharm": {
     "name": "#%%\n"
    }
   },
   "outputs": [],
   "source": [
    "for e_key, e_value in elements.items():\n",
    "    e_type = type(e_value)\n",
    "    e_type_name = e_type.class_name\n",
    "    print(f\"element {e_key} is a {e_type_name}\")"
   ]
  },
  {
   "cell_type": "code",
   "execution_count": null,
   "id": "f54d76d7",
   "metadata": {
    "ExecuteTime": {
     "end_time": "2022-08-10T13:57:09.452091Z",
     "start_time": "2022-08-10T13:57:09.448869Z"
    },
    "pycharm": {
     "name": "#%%\n"
    }
   },
   "outputs": [],
   "source": [
    "human_class = schema_view.get_class(\"Human\")"
   ]
  },
  {
   "cell_type": "code",
   "execution_count": null,
   "id": "44c8be2a",
   "metadata": {
    "ExecuteTime": {
     "end_time": "2022-08-10T13:57:10.178092Z",
     "start_time": "2022-08-10T13:57:10.175613Z"
    },
    "pycharm": {
     "name": "#%%\n"
    }
   },
   "outputs": [],
   "source": [
    "asserted_human_slots = human_class.slots"
   ]
  },
  {
   "cell_type": "code",
   "execution_count": null,
   "id": "cc577287",
   "metadata": {
    "ExecuteTime": {
     "end_time": "2022-08-10T13:57:24.754593Z",
     "start_time": "2022-08-10T13:57:24.751314Z"
    },
    "pycharm": {
     "name": "#%%\n"
    }
   },
   "outputs": [],
   "source": [
    "print(asserted_human_slots)"
   ]
  },
  {
   "cell_type": "code",
   "execution_count": null,
   "id": "38236e34",
   "metadata": {
    "ExecuteTime": {
     "end_time": "2022-08-10T13:59:40.959846Z",
     "start_time": "2022-08-10T13:59:40.956818Z"
    },
    "pycharm": {
     "name": "#%%\n"
    }
   },
   "outputs": [],
   "source": [
    "induced_human_slotdefs = schema_view.class_induced_slots(class_name=\"Human\")\n",
    "induced_human_slot_names = [i.name for i in induced_human_slotdefs]\n"
   ]
  },
  {
   "cell_type": "code",
   "execution_count": null,
   "id": "78eaccb6",
   "metadata": {
    "ExecuteTime": {
     "end_time": "2022-08-10T13:59:42.240563Z",
     "start_time": "2022-08-10T13:59:42.237513Z"
    },
    "pycharm": {
     "name": "#%%\n"
    }
   },
   "outputs": [],
   "source": [
    "print(induced_human_slot_names)"
   ]
  },
  {
   "cell_type": "code",
   "execution_count": null,
   "id": "a44f3e44",
   "metadata": {
    "pycharm": {
     "name": "#%%\n"
    }
   },
   "outputs": [],
   "source": []
  }
 ],
 "metadata": {
  "kernelspec": {
   "display_name": "Python 3 (ipykernel)",
   "language": "python",
   "name": "python3"
  },
  "language_info": {
   "codemirror_mode": {
    "name": "ipython",
    "version": 3
   },
   "file_extension": ".py",
   "mimetype": "text/x-python",
   "name": "python",
   "nbconvert_exporter": "python",
   "pygments_lexer": "ipython3",
   "version": "3.9.13"
  },
  "varInspector": {
   "cols": {
    "lenName": 16,
    "lenType": 16,
    "lenVar": 40
   },
   "kernels_config": {
    "python": {
     "delete_cmd_postfix": "",
     "delete_cmd_prefix": "del ",
     "library": "var_list.py",
     "varRefreshCmd": "print(var_dic_list())"
    },
    "r": {
     "delete_cmd_postfix": ") ",
     "delete_cmd_prefix": "rm(",
     "library": "var_list.r",
     "varRefreshCmd": "cat(var_dic_list()) "
    }
   },
   "types_to_exclude": [
    "module",
    "function",
    "builtin_function_or_method",
    "instance",
    "_Feature"
   ],
   "window_display": false
  }
 },
 "nbformat": 4,
 "nbformat_minor": 5
}